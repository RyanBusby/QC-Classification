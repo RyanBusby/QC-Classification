{
 "cells": [
  {
   "cell_type": "code",
   "execution_count": 1,
   "metadata": {
    "collapsed": true
   },
   "outputs": [],
   "source": [
    "import os\n",
    "import pickle\n",
    "from glob import glob\n",
    "import pandas as pd\n",
    "import numpy as np\n",
    "from sklearn import preprocessing\n",
    "from sklearn.decomposition import PCA"
   ]
  },
  {
   "cell_type": "code",
   "execution_count": 2,
   "metadata": {
    "collapsed": true
   },
   "outputs": [],
   "source": [
    "def load_clusters():\n",
    "    fnames = glob(os.path.join('..','data','clusters','*.csv'))\n",
    "    data = {}\n",
    "    indices = {}\n",
    "    labels = {}\n",
    "    for name in fnames:\n",
    "        dfx = name.split('/')[-1][:-4]\n",
    "        df = pd.read_csv(name, index_col='Id')\n",
    "        data[dfx] = df\n",
    "        indices[dfx] = df.index\n",
    "        labels[dfx] = df.Response\n",
    "    return data, indices, labels"
   ]
  },
  {
   "cell_type": "code",
   "execution_count": 3,
   "metadata": {
    "collapsed": true
   },
   "outputs": [],
   "source": [
    "def drop_non_fails(data):\n",
    "    dfs = []\n",
    "    for name, df in data.items():\n",
    "        if df.Response.sum() > 2:\n",
    "            dfs.append(name)\n",
    "    return dfs"
   ]
  },
  {
   "cell_type": "code",
   "execution_count": 4,
   "metadata": {
    "collapsed": true
   },
   "outputs": [],
   "source": [
    "def center_data(dfs, data):\n",
    "    A = {name: data[name].drop('Response', axis=1).values for name in dfs}\n",
    "    X = {name: preprocessing.scale(A[name]) for name in dfs}\n",
    "    return X"
   ]
  },
  {
   "cell_type": "code",
   "execution_count": 5,
   "metadata": {
    "collapsed": true
   },
   "outputs": [],
   "source": [
    "def choose_k(singular_values, expalained_variance=.95):\n",
    "    total = np.nansum(singular_values)\n",
    "    k = 1\n",
    "    exp_var = (singular_values[:k].sum()/total)\n",
    "    while exp_var < expalained_variance:\n",
    "        k += 1\n",
    "        exp_var = (singular_values[:k].sum()/total)\n",
    "    return k"
   ]
  },
  {
   "cell_type": "code",
   "execution_count": 6,
   "metadata": {
    "collapsed": true
   },
   "outputs": [],
   "source": [
    "def transform_clusters(dfs, X):\n",
    "    Z = {}\n",
    "    pca_map = {}\n",
    "    for df in dfs:\n",
    "        model = PCA(svd_solver='full', random_state=11).fit(X[df])\n",
    "        k = choose_k(model.singular_values_)\n",
    "        pca_map[df] = PCA(n_components=k, random_state=11)\n",
    "        Z[df] = pca_map[df].fit_transform(X[df])\n",
    "    return Z, pca_map"
   ]
  },
  {
   "cell_type": "code",
   "execution_count": 13,
   "metadata": {
    "collapsed": true
   },
   "outputs": [],
   "source": [
    "def save_Z_pca_maps(Z, pca_map, dfs, indices, labels):\n",
    "    for df in dfs:\n",
    "        dfx = pd.DataFrame(Z[df], index=indices[df])\n",
    "        dfx['Response'] = labels[df]\n",
    "        dfx.to_csv(os.path.join('..','data','pca',df+'.csv'))\n",
    "        with open(os.path.join('..','data','pca_map',df+'.pickle'), 'wb') as f:\n",
    "            pickle.dump(pca_map[df], f)"
   ]
  },
  {
   "cell_type": "code",
   "execution_count": 14,
   "metadata": {
    "collapsed": true
   },
   "outputs": [],
   "source": [
    "def run():\n",
    "    data, indices, labels = load_clusters()\n",
    "    dfs = drop_non_fails(data)\n",
    "    X = center_data(dfs, data)\n",
    "    Z, pca_map = transform_clusters(dfs, X)\n",
    "    save_Z_pca_maps(Z, pca_map, dfs, indices, labels)"
   ]
  },
  {
   "cell_type": "code",
   "execution_count": 15,
   "metadata": {},
   "outputs": [
    {
     "name": "stderr",
     "output_type": "stream",
     "text": [
      "/Users/ryanbusby/anaconda3/lib/python3.6/site-packages/numpy/lib/arraysetops.py:463: FutureWarning: elementwise comparison failed; returning scalar instead, but in the future will perform elementwise comparison\n",
      "  mask |= (ar1 == a)\n"
     ]
    }
   ],
   "source": [
    "run()"
   ]
  }
 ],
 "metadata": {
  "kernelspec": {
   "display_name": "Python 3",
   "language": "python",
   "name": "python3"
  },
  "language_info": {
   "codemirror_mode": {
    "name": "ipython",
    "version": 3
   },
   "file_extension": ".py",
   "mimetype": "text/x-python",
   "name": "python",
   "nbconvert_exporter": "python",
   "pygments_lexer": "ipython3",
   "version": "3.6.3"
  }
 },
 "nbformat": 4,
 "nbformat_minor": 2
}
