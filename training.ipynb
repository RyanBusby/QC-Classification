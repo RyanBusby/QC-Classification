{
 "cells": [
  {
   "cell_type": "markdown",
   "metadata": {},
   "source": [
    "## Run clusters through three different classification algorithms, choose whichever performs the best"
   ]
  },
  {
   "cell_type": "code",
   "execution_count": 1,
   "metadata": {
    "collapsed": true
   },
   "outputs": [],
   "source": [
    "import os\n",
    "import pandas as pd\n",
    "from glob import glob\n",
    "from sklearn.linear_model import LogisticRegression\n",
    "from sklearn.ensemble import RandomForestClassifier\n",
    "from sklearn.tree import DecisionTreeClassifier\n",
    "from sklearn.model_selection import train_test_split\n",
    "from sklearn.metrics import matthews_corrcoef as mc"
   ]
  },
  {
   "cell_type": "code",
   "execution_count": 2,
   "metadata": {
    "collapsed": true
   },
   "outputs": [],
   "source": [
    "def make_data_dict(file):\n",
    "    fnames = glob(os.path.join('..','data',file,'*.csv'))\n",
    "    data = {name.split('/')[-1][:-4]: pd.read_csv(name, index_col='Id') for name in fnames}\n",
    "    #some of the clusters don't have any failuers, can't model without both classes\n",
    "    dfs = [d for d in data.keys() if data[d]['Response'].sum()>1]\n",
    "    return data, dfs"
   ]
  },
  {
   "cell_type": "code",
   "execution_count": 3,
   "metadata": {
    "collapsed": true
   },
   "outputs": [],
   "source": [
    "def make_class_weights(data, dfs):\n",
    "    class_weights = {}\n",
    "    for df in dfs:\n",
    "        dfx = data[df]\n",
    "        n_failures = dfx.Response.sum()\n",
    "        class_weights[df] = n_failures/dfx.shape[0]\n",
    "    return class_weights"
   ]
  },
  {
   "cell_type": "code",
   "execution_count": 4,
   "metadata": {
    "collapsed": true
   },
   "outputs": [],
   "source": [
    "def split_training(data, dfs):\n",
    "    X_trains, X_tests, y_trains, y_tests = {},{},{},{}\n",
    "    for df in dfs:\n",
    "        X_trains[df], X_tests[df], y_trains[df], y_tests[df] = \\\n",
    "        train_test_split(data[df].drop('Response', axis=1).values, \\\n",
    "                         data[df]['Response'], \\\n",
    "                         stratify=data[df]['Response'])\n",
    "    return X_trains, X_tests, y_trains, y_tests"
   ]
  },
  {
   "cell_type": "code",
   "execution_count": 5,
   "metadata": {
    "collapsed": true
   },
   "outputs": [],
   "source": [
    "def train_classifiers(dfs, class_weights, X_trains, X_tests, y_trains, y_tests):\n",
    "    lrs = {df: LogisticRegression(fit_intercept=True).fit(X_trains[df], y_trains[df]) for df in dfs}\n",
    "    rfs = {df: RandomForestClassifier(max_features='sqrt',\\\n",
    "                                      class_weight={0:1-class_weights[df],\\\n",
    "                                      1:class_weights[df]}).fit(X_trains[df], y_trains[df])\\\n",
    "                                      for df in dfs}\n",
    "    dts = {df: DecisionTreeClassifier(max_features='sqrt',\\\n",
    "                                      class_weight={0:1-class_weights[df],\\\n",
    "                                      1:class_weights[df]}).fit(X_trains[df], y_trains[df])\\\n",
    "                                      for df in dfs}\n",
    "    classifiers = {'lrs': lrs, 'rfs': rfs, 'dts': dts}\n",
    "    return classifiers"
   ]
  },
  {
   "cell_type": "code",
   "execution_count": 6,
   "metadata": {
    "collapsed": true
   },
   "outputs": [],
   "source": [
    "def make_preds(dfs, classifiers, X_tests):\n",
    "    d_preds = {df: {} for df in dfs}\n",
    "    for df in dfs:\n",
    "        for name, classifier in classifiers.items():\n",
    "            d_preds[df][name] = classifier[df].predict(X_tests[df])\n",
    "    return d_preds"
   ]
  },
  {
   "cell_type": "code",
   "execution_count": 7,
   "metadata": {
    "collapsed": true
   },
   "outputs": [],
   "source": [
    "def score(dfs, d_preds, y_tests):\n",
    "    d_scores = {df: {} for df in dfs} \n",
    "    for df in dfs:\n",
    "        for name, preds in d_preds[df].items():\n",
    "            d_scores[df][name] = mc(y_tests[df], preds)\n",
    "    return d_scores"
   ]
  },
  {
   "cell_type": "code",
   "execution_count": 8,
   "metadata": {
    "collapsed": true
   },
   "outputs": [],
   "source": [
    "def choose_classifier(d_scores, dfs):\n",
    "    d_choice = {}\n",
    "    for df in dfs:\n",
    "        best = -1\n",
    "        for name, score in d_scores[df].items():\n",
    "            if score > best:\n",
    "                best = score\n",
    "                choice = name\n",
    "        d_choice[df] = choice\n",
    "    return d_choice"
   ]
  },
  {
   "cell_type": "code",
   "execution_count": 9,
   "metadata": {
    "collapsed": true
   },
   "outputs": [],
   "source": [
    "def run(file):\n",
    "    '''\n",
    "    file points to the directory where cluters are located\n",
    "    run this function to see how different munging strategies\n",
    "    effect final scores\n",
    "    '''\n",
    "    data, dfs = make_data_dict(file)\n",
    "    class_weights = make_class_weights(data, dfs)\n",
    "    X_trains, X_tests, y_trains, y_tests = split_training(data, dfs)\n",
    "    classifiers = train_classifiers(dfs, class_weights, X_trains, X_tests, y_trains, y_tests)\n",
    "    d_preds = make_preds(dfs, classifiers, X_tests)\n",
    "    d_scores = score(dfs, d_preds, y_tests)\n",
    "    d_choice = choose_classifier(d_scores, dfs)\n",
    "    scores = {df: d_scores[df][d_choice[df]] for df in dfs}\n",
    "    return d_choice, scores"
   ]
  },
  {
   "cell_type": "code",
   "execution_count": 10,
   "metadata": {},
   "outputs": [
    {
     "name": "stderr",
     "output_type": "stream",
     "text": [
      "/Users/ryanbusby/anaconda3/lib/python3.6/site-packages/numpy/lib/arraysetops.py:463: FutureWarning: elementwise comparison failed; returning scalar instead, but in the future will perform elementwise comparison\n",
      "  mask |= (ar1 == a)\n",
      "/Users/ryanbusby/anaconda3/lib/python3.6/site-packages/sklearn/metrics/classification.py:538: RuntimeWarning: invalid value encountered in double_scalars\n",
      "  mcc = cov_ytyp / np.sqrt(cov_ytyt * cov_ypyp)\n"
     ]
    }
   ],
   "source": [
    "d_choice1, scores1 = run('clusters')"
   ]
  },
  {
   "cell_type": "code",
   "execution_count": 11,
   "metadata": {},
   "outputs": [
    {
     "data": {
      "text/plain": [
       "{'df10': 0.0,\n",
       " 'df11': 0.19457212765016693,\n",
       " 'df12': 0.26549784807400767,\n",
       " 'df13': 0.18596345639229586,\n",
       " 'df14': 0.47223155034497682,\n",
       " 'df15': 0.11696310486853943,\n",
       " 'df16': 0.0,\n",
       " 'df17': 0.0,\n",
       " 'df18': 0.085089932191228318,\n",
       " 'df20': 0.11356308680361073,\n",
       " 'df24': 0.0,\n",
       " 'df3': 0.069476263825991549,\n",
       " 'df4': 0.0,\n",
       " 'df5': 0.0,\n",
       " 'df6': 0.0,\n",
       " 'df7': 0.0,\n",
       " 'df8': 0.0}"
      ]
     },
     "execution_count": 11,
     "metadata": {},
     "output_type": "execute_result"
    }
   ],
   "source": [
    "scores1"
   ]
  },
  {
   "cell_type": "code",
   "execution_count": 12,
   "metadata": {},
   "outputs": [
    {
     "name": "stderr",
     "output_type": "stream",
     "text": [
      "/Users/ryanbusby/anaconda3/lib/python3.6/site-packages/numpy/lib/arraysetops.py:463: FutureWarning: elementwise comparison failed; returning scalar instead, but in the future will perform elementwise comparison\n",
      "  mask |= (ar1 == a)\n",
      "/Users/ryanbusby/anaconda3/lib/python3.6/site-packages/sklearn/metrics/classification.py:538: RuntimeWarning: invalid value encountered in double_scalars\n",
      "  mcc = cov_ytyp / np.sqrt(cov_ytyt * cov_ypyp)\n"
     ]
    }
   ],
   "source": [
    "d_choice2, scores2 = run('pca')"
   ]
  },
  {
   "cell_type": "code",
   "execution_count": null,
   "metadata": {
    "collapsed": true
   },
   "outputs": [],
   "source": [
    "scores2"
   ]
  },
  {
   "cell_type": "code",
   "execution_count": null,
   "metadata": {
    "collapsed": true
   },
   "outputs": [],
   "source": [
    "df11-pca, df-12-reg, df-14-reg, df-15-pca, df-18-reg, df-20-pca, df-3-reg, df-4-pca, df-6-pca "
   ]
  },
  {
   "cell_type": "code",
   "execution_count": 26,
   "metadata": {},
   "outputs": [
    {
     "data": {
      "text/plain": [
       "{'df10': 0.0,\n",
       " 'df11': 0.0,\n",
       " 'df12': 0.26549784807400767,\n",
       " 'df13': 0.0,\n",
       " 'df14': 0.17956068337157555,\n",
       " 'df15': 0.11638032635903485,\n",
       " 'df16': 0.0,\n",
       " 'df17': 0.0,\n",
       " 'df18': 0.16369443324914995,\n",
       " 'df20': 0.055332113372554295,\n",
       " 'df24': 0.0,\n",
       " 'df3': 0.084280438403725844,\n",
       " 'df4': 0.0,\n",
       " 'df5': 0.0,\n",
       " 'df6': 0.0,\n",
       " 'df7': 0.0,\n",
       " 'df8': 0.0}"
      ]
     },
     "execution_count": 26,
     "metadata": {},
     "output_type": "execute_result"
    }
   ],
   "source": [
    "scores1"
   ]
  },
  {
   "cell_type": "code",
   "execution_count": 28,
   "metadata": {},
   "outputs": [
    {
     "data": {
      "text/plain": [
       "{'df10': 0.0,\n",
       " 'df11': 0.35659399532816743,\n",
       " 'df12': 0.0,\n",
       " 'df13': 0.0,\n",
       " 'df14': 0.12437863179442786,\n",
       " 'df15': 0.22174730466123255,\n",
       " 'df16': 0.0,\n",
       " 'df17': 0.0,\n",
       " 'df18': 0.12455931821902196,\n",
       " 'df20': 0.12078333958308288,\n",
       " 'df24': 0.0,\n",
       " 'df3': 0.018734217374691813,\n",
       " 'df4': 0.40139635583086408,\n",
       " 'df5': 0.0,\n",
       " 'df6': 0.35148122069129401,\n",
       " 'df7': 0.0,\n",
       " 'df8': 0.0}"
      ]
     },
     "execution_count": 28,
     "metadata": {},
     "output_type": "execute_result"
    }
   ],
   "source": [
    "scores2"
   ]
  }
 ],
 "metadata": {
  "kernelspec": {
   "display_name": "Python 3",
   "language": "python",
   "name": "python3"
  },
  "language_info": {
   "codemirror_mode": {
    "name": "ipython",
    "version": 3
   },
   "file_extension": ".py",
   "mimetype": "text/x-python",
   "name": "python",
   "nbconvert_exporter": "python",
   "pygments_lexer": "ipython3",
   "version": "3.6.3"
  }
 },
 "nbformat": 4,
 "nbformat_minor": 2
}
